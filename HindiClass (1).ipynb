{
  "cells": [
    {
      "cell_type": "code",
      "execution_count": 40,
      "metadata": {
        "colab": {
          "base_uri": "https://localhost:8080/"
        },
        "id": "vMDEAY4vnebQ",
        "outputId": "35a69cbf-a6f5-4208-91a4-c5ca55c0bee7"
      },
      "outputs": [
        {
          "name": "stdout",
          "output_type": "stream",
          "text": [
            "['अँगारे बरस ', 'अंगारों पैर रख ', 'अँगारे सिर धरना', 'अँगूठा चूस ', 'अँगूठा दिखा ', 'अँगूठी नगी ', 'अंग अंग फूले समा ', 'अंगद पैर', 'अन्धी सरकार ', 'अन्धे लाठी', 'अन्धे लकड़ी', 'अन्धे आगे रो ', 'अम्बर तारे गिन ', 'अन्धे हाथ बटेर लग ', 'अन्धों का राजा ', 'अक्ल अन्धा ', 'अक्ल घोड़े दौड़ा ', 'अक्ल चरने जा ', 'अक्ल पत्थर पड़ना', 'अक्ल पीछे लाठी लिये फिर ', 'अगर मगर ', 'अटका बनिया देय उधार ', 'अधजल गगरी छलकत जाए ', 'अन्त पाना', 'अन्त बिगाड़ ', 'अन्न जल उठ ', 'अप उल्लू सीधा ', 'अपनी खिचड़ी अलग पका ', 'अप राग अलाप ', 'अपने मुँह मियाँ मिट्ठ बन ', 'अप मुँह लेकर रह जा ', 'अप घर समझना', 'अपने पैरों खड़ा ', 'अपने पाँव कुल्हाड़ी मार ', 'आकाश पाताल एक ', 'आँख चुरा ', 'आँखें फेर ', 'आँखें बिछा ', 'आँख मिला ', 'आँखें खुल जा ', 'आँखें नीची ', 'आँखें चार होना', 'आँखें दो चार होना', 'आँख तारा', 'आँखों परदा पड़ ', 'आँखों धूल झोंक ', 'आँखों सरसों फूलना', 'आँखों पानी ढल ', 'आँख दिखा ', 'आँचल बाँध ', 'आग बबूला ', 'आग घी डाल ', 'आठ आठ आँसू बहा ', 'आड़े हाथों ले ', 'आधा तीतर आधा बटेर ', 'आपे बाहर ', 'आसमान टूट पड़ ', 'आसमान बातें ', 'आसमान दिमाग चढ़ ', 'आसमान थूक ', 'आस्तीन साँप ', 'इज्जत मिट्टी मिलाना', 'इधर उधर लगा ', 'ईंट ईंट बजा ', 'ईमान बेच ', 'ईद चाँद ', 'उँगली उठा ', 'उँगली पकड़ते पकड़ते पहुँचा पकड़ ', 'उँगली नचा ', 'उड़ती चिड़िया पहचान ', 'उड़ती चिड़िया पंख गिन ', 'ऊँची दुकान फीके पकवान ', 'ऊँट मुँह जीरा ', 'उल्टी गंगा बहा ', 'उल्टी माला फेर ', 'उल्लू सीधा करना', 'एक आँख देख ', 'एक अर सौ बीमार ', 'एक और एक ग्यारह ', 'एक हाथ ताली नहीं बजती ', 'एड़ी चोटी पसी एक ', 'ऐसी तैसी ', 'ओखली सिर दे ', 'कंगाली आटा गीला होना', 'कन्धे कन्धा मिलाना', 'कच्चा चिट्ठा खोल ', 'कमर टूटना', 'कलाम तोड़ना', 'कलेजा छलनी ', 'कलेजा थाम ', 'कलेजा धक धक ', 'कलेजा निकालकर रख दे ', 'कलेजा मुँह को आ ', 'कलेजे पत्थर रख ', 'कसाई खूटे बाँध ', 'काँटों लोट ', 'कागज काला ', 'कागजी घोड़े दौड़ा ', 'काठ उल्लू ', 'कान काट ', 'कान कच्चा ', 'कान खड़े ', 'कान खा ', 'कान जूं रेंग ', 'कान भर ', 'काया पलट दे ', 'काला अक्षर भैंस बराबर ', 'कीचड़ उछाल ', 'कुएँ भाँग पड़ ', 'कुएँ बाँस डालना', 'कुत्ते मौत मर ', 'कूप मण्डूक ', 'कोयले दलाली हाथ काले ', 'कोल्हू बैल', 'खटाई डाल ', 'खरी खोटी सुना ', 'खरी मजूरी चोखा काम', 'खाक छान ', 'खाक मिला ', 'खून प्यासा ', 'खून सूख जा ', 'खून सफेद ', 'खून पसी एक ', 'खेल खिला ', 'खेत रह ', 'गड़े मुर्दे उखाड़ ', 'गागर सागर भर ', 'गाल बजा ', 'गुड़ गोबर ', 'गूलर फूल ', 'घड़ों पानी पड़ ', 'घर दीपक ', 'घर फूंक तमाशा देख ', 'घाट घाट पानी ', 'घाव नमक छिड़क ', 'घाव हरा ', 'घी दीये जला ', 'घोड़े बेचकर सो ', 'चम्पत ', 'चाँद थूक ', 'चू लगा ', 'चाँदी काट ', 'चिक घड़ा ', 'चिकनी चुपड़ी बातें ', 'चुल्लूभर पानी डूब मर ', 'चेहरे हवाइयाँ उड़ ', 'चोर दाढ़ी तिनका ', 'चोली दामन साथ ', 'छक्के छुड़ा ', 'छठी दूध याद आ ', 'छठी दूध याद करा ', 'छाती मूंग दल ', 'छाती पत्थर रख ', 'छाती साँप लोटना', 'कलेजे साँप लोट ', 'जमीन पैर रख ', 'जहर उगल ', 'जली कटी कह ', 'जहाज पंछी ', 'जी जान लड़ा ', 'जीती मक्खी निगल ', 'जोड़ तोड़ करना', 'झख मारना', 'टस मस होना', 'टका जवाब दे ', 'टपक पड़ ', 'टाँग अड़ा ', 'टाट उलट ', 'टेढ़ी खीर ', 'टोपी उछाल ', 'ठकुरसुहाती करना', 'ठगा रह जा ', 'ठिकाने लगा ', 'ठोकर खा ', 'डूबते को तिनके सहारा ', 'ढाई ईंट मस्जिद अलग बना ', 'ढिंढोरा पीट ', 'ढोल पोल', 'ढोल भीतर पोल ', 'तकदीर फूट जा ', 'तलवे चाट ', 'तिल ताड़ करना', 'तीन तेरह करना', 'तीन पाँच ', 'तोते समान रह ', 'थाली बैंगन ', 'थूककर चाट ', 'दंग रह जा ', 'दाँत खट्टे ', 'दाँत पीसकर रह जा ', 'दाँतों तले उँगली दबा ', 'दाने दाने को तरस ', 'दाल गल ', 'दाल काला ', 'दिल बाग ', 'दिल भर आ ', 'दूध दूध पानी पानी ', 'दूध नदियाँ बहा ', 'दूध मक्खी तरह निकाल दे ', 'दुम दबाकर चल दे ', 'देवता कूच जा ', 'दो नावों पैर रख ', 'दो टूक बात कहना', 'दो दिन मेहमान ', 'धूप बाल सफेद नहीं ', 'नकेल हाथ ', 'नजर लग जा ', 'नजर गिर ', 'नदी नाव संयोग', 'नमक मिर्च लगा ', 'नमकहरामी ', 'नहले पे दहला चल ', 'नाक कट ', 'नाक कटने बचा ', 'नाक बाल ', 'नाक नीचा कराना', 'नाक बचा ', 'नाक रगड़ ', 'नाक रख ले ', 'नाकों चने चबा ', 'नौ दो ग्यारह होना', 'पगड़ी उछाल ', 'पत्ता काट ', 'पत्थर लकीर ', 'पर्दा डाल ', 'पसी पसी ', 'पहाड़ टूट पड़ ', 'पाँचों उँगली घी ', 'पानी उतर जा ', 'पानी पानी होना', 'पानी फेर दे ', 'पापड़ बेलना', 'पीठ दिखा ', 'पेट दाढ़ी ', 'पौ बारह ', 'प्यासा कुएँ पास जाता ', 'प्राण हथेली रख ', 'फुलझड़ी छोड़ ', 'फूटी आँखों देख ', 'फूला समा ', 'बगुलाभगत होना', 'बगलें झाँक ', 'बाँछे खिल जा ', 'बाल खाल निकालना', 'बाल बाँका ', 'बालू दीवार ', 'बिजली गिर ', 'बीड़ा उठा ', 'बे उड़ा ', 'बे सिर पैर बात ', 'बोटी बोटी फड़क ', 'भण्डा फूट ', 'भीगी बिल्ली बन ', 'मक्खन लगा ', 'मक्खियाँ मार ', 'मन मोदक खा ', 'मन खट्टा जाना', 'मन मारकर बैठ ', 'मन्त्र फॅक ', 'मिट्टी मोल बिक ', 'मिट्टी मिलाना', 'मुँह कालिख लग ', 'मुँह खा ', 'मुँह पानी भर आ ', 'मुट्ठी गर्म ', 'मँखें नीची जा ', 'मूंछों ताव दे ', 'मैदान मार ', 'रंग उतर ', 'रंग जमा ', 'रंग भंग पड़ ', 'राई पर्वत ', 'रास्ते काँटा बन ', 'रोंगटे खड़े ', 'लकीर फकीर ', 'लाल  पीला ', 'लुटिया डुबो ', 'लोहा लोहे को काटता ', 'लोहा ले ', 'लोहे चने चबा ', 'श्रीगणेश ', 'सफेद झूठ ', 'सिर उठाना', 'सिर खाना', 'सिर खुजला ', 'सितारा चमक ', 'सिर सवार ', 'सिर माथे चढ़ा लेना', 'सीधी उँगली घी नहीं निकलता ', 'सीधे मुँह बात करना', 'सौ बात एक बात', 'साँप छछंदर गति ', 'हथियार डाल दे ', 'हवाई किले बना', 'हवा किले बना', 'हवा बातें ', 'हाथ मल ', 'हाँ हाँ मिला ', 'हाथ तोते उड़ ', 'हाथ हाथ रखकर बैठ ', 'हाथ पाँव मारना', 'हाथ पाँव फूल ', 'हाथ पीले ', 'हाथ को हाथ नहीं सूझ ', 'हाथ मलते रह जा ', 'हिलोरें मार ', 'हुक्का भर सेवा करना', 'जी हुजूरी करना', 'होश ठिकाने ', 'होश उड़ जा ']\n"
          ]
        }
      ],
      "source": [
        "with open('hindi_short_idioms.txt', 'r', encoding='utf-8') as file:\n",
        "    idioms = file.read()\n",
        "\n",
        "idioms = idioms.split(\"\\n\")\n",
        "idioms = [idiom for idiom in idioms if idiom]\n",
        "print (idioms)\n"
      ]
    },
    {
      "cell_type": "code",
      "execution_count": 19,
      "metadata": {
        "colab": {
          "base_uri": "https://localhost:8080/"
        },
        "id": "PSbUX92Ws7Ds",
        "outputId": "7b811086-bda3-4a15-8d01-032dc149624e"
      },
      "outputs": [
        {
          "name": "stdout",
          "output_type": "stream",
          "text": [
            "Collecting deep-translator\n",
            "  Downloading deep_translator-1.11.4-py3-none-any.whl (42 kB)\n",
            "\u001b[?25l     \u001b[90m━━━━━━━━━━━━━━━━━━━━━━━━━━━━━━━━━━━━━━━━\u001b[0m \u001b[32m0.0/42.3 kB\u001b[0m \u001b[31m?\u001b[0m eta \u001b[36m-:--:--\u001b[0m\r\u001b[2K     \u001b[90m━━━━━━━━━━━━━━━━━━━━━━━━━━━━━━━━━━━━━━━━\u001b[0m \u001b[32m42.3/42.3 kB\u001b[0m \u001b[31m2.0 MB/s\u001b[0m eta \u001b[36m0:00:00\u001b[0m\n",
            "\u001b[?25hRequirement already satisfied: beautifulsoup4<5.0.0,>=4.9.1 in /usr/local/lib/python3.10/dist-packages (from deep-translator) (4.12.3)\n",
            "Requirement already satisfied: requests<3.0.0,>=2.23.0 in /usr/local/lib/python3.10/dist-packages (from deep-translator) (2.31.0)\n",
            "Requirement already satisfied: soupsieve>1.2 in /usr/local/lib/python3.10/dist-packages (from beautifulsoup4<5.0.0,>=4.9.1->deep-translator) (2.5)\n",
            "Requirement already satisfied: charset-normalizer<4,>=2 in /usr/local/lib/python3.10/dist-packages (from requests<3.0.0,>=2.23.0->deep-translator) (3.3.2)\n",
            "Requirement already satisfied: idna<4,>=2.5 in /usr/local/lib/python3.10/dist-packages (from requests<3.0.0,>=2.23.0->deep-translator) (2.10)\n",
            "Requirement already satisfied: urllib3<3,>=1.21.1 in /usr/local/lib/python3.10/dist-packages (from requests<3.0.0,>=2.23.0->deep-translator) (2.0.7)\n",
            "Requirement already satisfied: certifi>=2017.4.17 in /usr/local/lib/python3.10/dist-packages (from requests<3.0.0,>=2.23.0->deep-translator) (2024.6.2)\n",
            "Installing collected packages: deep-translator\n",
            "Successfully installed deep-translator-1.11.4\n"
          ]
        }
      ],
      "source": [
        "pip install deep-translator"
      ]
    },
    {
      "cell_type": "code",
      "execution_count": 41,
      "metadata": {
        "colab": {
          "base_uri": "https://localhost:8080/"
        },
        "id": "9vFABdeWyEww",
        "outputId": "e3b2a354-38a6-4230-e00d-b070aad173d9"
      },
      "outputs": [
        {
          "name": "stdout",
          "output_type": "stream",
          "text": [
            "['embers rain', 'step on the coals', \"hold one's head in the embers\", 'suck thumb', 'show thumb', 'ring gem', 'Every part of the body swelled up', 'Angad Feet', 'Blind Government', 'Blind Sticks', 'Blind Wood', 'the blind cry ahead', 'count the amber stars', 'the blind caught a quail', 'king of the blind', 'mind blind', 'the smart horse ran', 'go to graze your brain', 'having a wisdom stone', 'Then with the stick behind his head', 'if but', \"stuck trader's dues loan\", 'People with half knowledge speak more.', 'end result', 'spoil the ending', 'food and water', 'up boob straighten up', 'Cook your khichdi separately', 'up raaga alaap', 'sweeten your mouth', 'keep your mouth shut', 'understanding your home', 'stand on your feet', 'axe your feet', 'the sky underworld one', 'steal an eye', 'turn your eyes away', 'Laying eyes', 'Eye contact', 'open your eyes', 'Eyes downcast', 'To fall in love with someone', 'to have eyes in two', 'Eye star', 'eyes covered', 'throwing dust in eyes', 'Eyes mustard swell', 'eyes watering', 'showed eyes', 'Anchal Dam', 'Furious', 'add fuel to the fire', 'eight tears shed', 'take to task', 'half pheasant half quail', 'out of your mind', 'the sky fell down', 'Sky things', 'soar your mind to the skies', 'spit the sky', 'Sleeve Snake', 'mix respect soil', 'felt here and there', 'brick by brick', 'sell your honor', 'eid moon', 'finger lift', 'holding the finger holding the hand', 'finger dance', 'Flying bird identification', 'count the feathers of a flying bird', 'Big name and inferior qualities', 'camel mouth cumin', 'the river flowed in the opposite direction', 'reverse mala', 'straighten up your own owl', 'one eye look', 'one hundred and one sick', 'Two heads are better than one', \"one hand doesn't clap\", 'one with toe tied', 'like this', 'give me a mortar and pestle', 'the poverty of the flour is wet', 'to stand shoulder to shoulder', 'open the raw account', 'back break', 'breaking the kalam', 'liver sieve', 'hold your heart', 'my heart is pounding', 'take out your liver', 'my heart comes to my mouth', 'keep your heart to stone', \"butcher's peg tie\", 'roll in thorns', 'Paper Black', 'paper horses ran', 'Wood Owl', 'Ears cut off', 'Ear raw', 'ears erect', 'eat ears', 'ear lice crawling', 'ears full', 'turn around', 'illiterate', 'Mud Slinging', 'the well is filled with cannabis', 'Putting wells bamboo', 'dog died a death', 'well paddock', 'coal brokerage hands are black', 'Crusher Bull', 'put the marinade', 'heard a lot of lies', 'honest wages good work', 'no idea', 'found the ashes', 'blood thirsty', 'dry up the blood', 'blood white', 'blood soaked one', 'Playing the Game', 'farm stay', 'dig up the buried dead', 'pitcher full of sea', 'cheeks rang', 'Jaggery dung', 'Sycamore Flower', 'pots of water fell', 'home lamp', 'watch the spectacle of a house burning', 'ghat ghat water', 'sprinkling salt on the wound', 'green wound', 'Burn ghee diyas', 'sell horses and sleep', 'Champat', 'Moon Spit', 'Choo Felt', 'silver cut', 'Chick pitcher', 'smooth talk', 'drown in a handful of water', 'faces flew away', 'thief beard straw', 'blouse with sleeves', 'hit sixes', 'I miss the sixth milk', 'remember the sixth milk', 'moong dal', 'keep your chest stoned', 'Rolling Chest Snake', 'the snake rolls in the liver', 'keep your feet on the ground', 'spitting poison', 'say burnt cut', 'ship birds', 'fought with all my might', 'swallow a live fly', 'Manipulating', 'to poke around', 'to be in a tussle', 'please answer', 'dripping down', 'leg stuck', 'Tat reversal', 'crooked kheer', 'Hat boom', 'to please Thakur', 'stay fooled', 'settled down', 'stumble', 'straws to support the drowning', 'Two and a half brick mosque built separately', 'beat the drum', 'Drum Poll', 'pole inside the drum', 'may your fate break', 'Licking the soles', 'Mole palming', 'make three thirteen', 'Three five', 'be like a parrot', 'plate of eggplant', 'spit and lick', 'be stunned', 'Sore teeth', 'keep gritting your teeth', 'press finger under teeth', 'craving for grains', 'Lentil Gal', 'Lentil black', 'Dil Bagh', 'fill your heart', 'milk milk water water', 'Milk rivers flowed', 'throw away the milk like a fly', 'walk away with your tail between your legs', 'god go ahead', 'two boats set foot', 'to speak bluntly', 'two day guest', 'Sunlight does not whiten hair', 'Braided hand', 'take a look', 'fall in sight', 'river boat coincidence', 'put salt and pepper', 'treachery', 'Play the Nahle Pe Dehla Chal', 'Nose Cut', 'save your nose from getting cut', 'Nose Hair', \"to turn one's nose down\", 'Save the nose', 'Nose rubbing', 'hold your nose', 'chewing gum', 'To escape', 'Turban boom', 'Leaf cut', 'stone streak', 'put up the curtain', 'sweaty sweaty', 'the mountain broke down', 'Five fingers ghee', 'get off the water', 'To be ashamed of something', 'pour water', 'to work hard', 'show your back', 'Belly Shave', 'quarter past twelve', 'the thirsty man goes to the well', 'keep your life in your hand', 'leave the sparkler', 'look with wide eyes', 'Full of sama', 'to be flattered', 'peek under your armpits', 'be happy', 'hair removal', 'hair swan', 'sand wall', 'Lightning Strike', 'took the lead', 'Bay Blow', 'pointless talk', 'every part of it flutters', 'Bhandaar split', 'become a wet cat', 'buttered', 'Kill flies', 'Mind eating modak', \"to lose one's mind\", 'sit down with a heavy heart', 'Mantra Fuck', 'sold for soil', 'Mixing the Soil', 'face blackened', 'mouth eating', 'mouth is watering', 'Fist Warm', 'lower your eyes', 'twirling your moustache', 'hitting the field', 'color fade', 'Color Deposits', 'the color fades', 'Rye Mountain', 'become a fork in the road', 'goosebumps', 'Streaks', 'red Yellow', 'drown the boat', 'iron cuts iron', 'take the iron', 'chew iron grams', 'Shri Ganesh', 'White lies', 'Raising the head', 'Eating the Head', 'Head itching', 'Star shine', 'Head Rider', \"to take one's head on\", 'ghee does not come out with straight finger', 'speak straight to the face', 'One thing is a hundred', 'snake shrew speed', 'lay down your arms', 'build castles in the air', 'build air castles', 'air things', 'Hand stool', 'yes yes got it', 'hand parrots fly away', 'sit with your hands folded', 'To try in every way to finish up some work', 'hand and foot flowers', 'yellow hands', \"I can't feel my hand\", 'keep rubbing your hands', 'wave and hit', 'hookah service', 'to be subservient', 'senses', 'lose your senses']\n"
          ]
        }
      ],
      "source": [
        "from deep_translator import GoogleTranslator\n",
        "\n",
        "idioms_english4 = []\n",
        "# Translate a sentence\n",
        "for idiom in idioms:\n",
        "    translation = GoogleTranslator(source='hi', target='en').translate(idiom)\n",
        "    idioms_english4.append(translation)\n",
        "\n",
        "print(idioms_english4)"
      ]
    },
    {
      "cell_type": "code",
      "execution_count": 42,
      "metadata": {
        "id": "cLG-3CPbyL17"
      },
      "outputs": [],
      "source": [
        "import pandas as pd\n",
        "\n",
        "# Convert to DataFrame and save as CSV\n",
        "df = pd.DataFrame(idioms_english4)\n",
        "df.to_csv('hindi_english_idioms_csv.csv', index=False)\n"
      ]
    },
    {
      "cell_type": "code",
      "execution_count": 24,
      "metadata": {
        "colab": {
          "base_uri": "https://localhost:8080/"
        },
        "id": "P9WNCbHAz1fg",
        "outputId": "44245a49-b255-450a-8bb1-e4aadc794c97"
      },
      "outputs": [
        {
          "name": "stdout",
          "output_type": "stream",
          "text": [
            "Requirement already satisfied: nltk in /usr/local/lib/python3.10/dist-packages (3.8.1)\n",
            "Requirement already satisfied: click in /usr/local/lib/python3.10/dist-packages (from nltk) (8.1.7)\n",
            "Requirement already satisfied: joblib in /usr/local/lib/python3.10/dist-packages (from nltk) (1.4.2)\n",
            "Requirement already satisfied: regex>=2021.8.3 in /usr/local/lib/python3.10/dist-packages (from nltk) (2024.5.15)\n",
            "Requirement already satisfied: tqdm in /usr/local/lib/python3.10/dist-packages (from nltk) (4.66.4)\n"
          ]
        }
      ],
      "source": [
        "pip install nltk"
      ]
    },
    {
      "cell_type": "code",
      "execution_count": 26,
      "metadata": {
        "colab": {
          "base_uri": "https://localhost:8080/"
        },
        "id": "18DKDywx0aWr",
        "outputId": "59f5b9f0-4502-49a3-edb8-24529cb18809"
      },
      "outputs": [
        {
          "name": "stdout",
          "output_type": "stream",
          "text": [
            "Collecting rake_nltk\n",
            "  Downloading rake_nltk-1.0.6-py3-none-any.whl (9.1 kB)\n",
            "Requirement already satisfied: nltk<4.0.0,>=3.6.2 in /usr/local/lib/python3.10/dist-packages (from rake_nltk) (3.8.1)\n",
            "Requirement already satisfied: click in /usr/local/lib/python3.10/dist-packages (from nltk<4.0.0,>=3.6.2->rake_nltk) (8.1.7)\n",
            "Requirement already satisfied: joblib in /usr/local/lib/python3.10/dist-packages (from nltk<4.0.0,>=3.6.2->rake_nltk) (1.4.2)\n",
            "Requirement already satisfied: regex>=2021.8.3 in /usr/local/lib/python3.10/dist-packages (from nltk<4.0.0,>=3.6.2->rake_nltk) (2024.5.15)\n",
            "Requirement already satisfied: tqdm in /usr/local/lib/python3.10/dist-packages (from nltk<4.0.0,>=3.6.2->rake_nltk) (4.66.4)\n",
            "Installing collected packages: rake_nltk\n",
            "Successfully installed rake_nltk-1.0.6\n"
          ]
        }
      ],
      "source": [
        "pip install rake_nltk"
      ]
    },
    {
      "cell_type": "code",
      "execution_count": 43,
      "metadata": {
        "colab": {
          "base_uri": "https://localhost:8080/"
        },
        "id": "w4cQr2fH0LIr",
        "outputId": "5aa45cb7-70b0-4519-caa1-44bdfe71adbc"
      },
      "outputs": [
        {
          "name": "stdout",
          "output_type": "stream",
          "text": [
            "[['embers rain'], ['step', 'coals'], ['hold one', 'head', 'embers'], ['suck thumb'], ['show thumb'], ['ring gem'], ['every part', 'body swelled'], ['angad feet'], ['blind government'], ['blind sticks'], ['blind wood'], ['blind cry ahead'], ['amber stars', 'count'], ['blind caught', 'quail'], ['king', 'blind'], ['mind blind'], ['smart horse ran'], ['graze', 'go', 'brain'], ['wisdom stone'], ['stick behind', 'head'], [], ['stuck trader', 'dues loan'], ['half knowledge speak', 'people'], ['end result'], ['spoil', 'ending'], ['water', 'food'], ['boob straighten'], ['khichdi separately', 'cook'], ['raaga alaap'], ['sweeten', 'mouth'], ['mouth shut', 'keep'], ['understanding', 'home'], ['stand', 'feet'], ['feet', 'axe'], ['sky underworld one'], ['steal', 'eye'], ['eyes away', 'turn'], ['laying eyes'], ['eye contact'], ['open', 'eyes'], ['eyes downcast'], ['someone', 'love', 'fall'], ['two', 'eyes'], ['eye star'], ['eyes covered'], ['throwing dust', 'eyes'], ['eyes mustard swell'], ['eyes watering'], ['showed eyes'], ['anchal dam'], ['furious'], ['add fuel', 'fire'], ['eight tears shed'], ['task', 'take'], ['half pheasant half quail'], ['mind'], ['sky fell'], ['sky things'], ['soar', 'skies', 'mind'], ['spit', 'sky'], ['sleeve snake'], ['mix respect soil'], ['felt'], ['brick', 'brick'], ['sell', 'honor'], ['eid moon'], ['finger lift'], ['finger holding', 'holding', 'hand'], ['finger dance'], ['flying bird identification'], ['flying bird', 'feathers', 'count'], ['inferior qualities', 'big name'], ['camel mouth cumin'], ['river flowed', 'opposite direction'], ['reverse mala'], ['straighten', 'owl'], ['one eye look'], ['one sick', 'one hundred'], ['two heads', 'one', 'better'], ['one hand', 'clap'], ['toe tied', 'one'], ['like'], ['pestle', 'mortar', 'give'], ['wet', 'poverty', 'flour'], ['stand shoulder', 'shoulder'], ['raw account', 'open'], ['back break'], ['kalam', 'breaking'], ['liver sieve'], ['hold', 'heart'], ['pounding', 'heart'], ['take', 'liver'], ['heart comes', 'mouth'], ['stone', 'keep', 'heart'], ['peg tie', 'butcher'], ['thorns', 'roll'], ['paper black'], ['paper horses ran'], ['wood owl'], ['ears cut'], ['ear raw'], ['ears erect'], ['eat ears'], ['ear lice crawling'], ['ears full'], ['turn around'], ['illiterate'], ['mud slinging'], ['well', 'filled', 'cannabis'], ['putting wells bamboo'], ['dog died', 'death'], ['well paddock'], ['coal brokerage hands', 'black'], ['crusher bull'], ['put', 'marinade'], ['lot', 'lies', 'heard'], ['honest wages good work'], ['idea'], ['found', 'ashes'], ['blood thirsty'], ['dry', 'blood'], ['blood white'], ['blood soaked one'], ['playing', 'game'], ['farm stay'], ['buried dead', 'dig'], ['pitcher full', 'sea'], ['cheeks rang'], ['jaggery dung'], ['sycamore flower'], ['water fell', 'pots'], ['home lamp'], ['house burning', 'watch', 'spectacle'], ['ghat ghat water'], ['sprinkling salt', 'wound'], ['green wound'], ['burn ghee diyas'], ['sell horses', 'sleep'], ['champat'], ['moon spit'], ['choo felt'], ['silver cut'], ['chick pitcher'], ['smooth talk'], ['water', 'handful', 'drown'], ['faces flew away'], ['thief beard straw'], ['sleeves', 'blouse'], ['hit sixes'], ['sixth milk', 'miss'], ['sixth milk', 'remember'], ['moong dal'], ['chest stoned', 'keep'], ['rolling chest snake'], ['snake rolls', 'liver'], ['keep', 'ground', 'feet'], ['spitting poison'], ['say burnt cut'], ['ship birds'], ['might', 'fought'], ['live fly', 'swallow'], ['manipulating'], ['poke around'], ['tussle'], ['please answer'], ['dripping'], ['leg stuck'], ['tat reversal'], ['crooked kheer'], ['hat boom'], ['please thakur'], ['stay fooled'], ['settled'], ['stumble'], ['support', 'straws', 'drowning'], ['half brick mosque built separately', 'two'], ['drum', 'beat'], ['drum poll'], ['pole inside', 'drum'], ['fate break', 'may'], ['soles', 'licking'], ['mole palming'], ['make three thirteen'], ['three five'], ['parrot', 'like'], ['plate', 'eggplant'], ['spit', 'lick'], ['stunned'], ['sore teeth'], ['keep gritting', 'teeth'], ['press finger', 'teeth'], ['grains', 'craving'], ['lentil gal'], ['lentil black'], ['dil bagh'], ['heart', 'fill'], ['milk milk water water'], ['milk rivers flowed'], ['throw away', 'milk like', 'fly'], ['walk away', 'tail', 'legs'], ['god go ahead'], ['two boats set foot'], ['speak bluntly'], ['two day guest'], ['whiten hair', 'sunlight'], ['braided hand'], ['take', 'look'], ['sight', 'fall'], ['river boat coincidence'], ['put salt', 'pepper'], ['treachery'], ['nahle pe dehla chal', 'play'], ['nose cut'], ['getting cut', 'save', 'nose'], ['nose hair'], ['turn one', 'nose'], ['save', 'nose'], ['nose rubbing'], ['nose', 'hold'], ['chewing gum'], ['escape'], ['turban boom'], ['leaf cut'], ['stone streak'], ['put', 'curtain'], ['sweaty sweaty'], ['mountain broke'], ['five fingers ghee'], ['water', 'get'], ['something', 'ashamed'], ['pour water'], ['work hard'], ['show', 'back'], ['belly shave'], ['quarter past twelve'], ['thirsty man goes', 'well'], ['life', 'keep', 'hand'], ['sparkler', 'leave'], ['wide eyes', 'look'], ['sama', 'full'], ['flattered'], ['peek', 'armpits'], ['happy'], ['hair removal'], ['hair swan'], ['sand wall'], ['lightning strike'], ['took', 'lead'], ['bay blow'], ['pointless talk'], ['every part', 'flutters'], ['bhandaar split'], ['wet cat', 'become'], ['buttered'], ['kill flies'], ['mind eating modak'], ['lose one', 'mind'], ['heavy heart', 'sit'], ['mantra fuck'], ['sold', 'soil'], ['soil', 'mixing'], ['face blackened'], ['mouth eating'], ['watering', 'mouth'], ['fist warm'], ['lower', 'eyes'], ['twirling', 'moustache'], ['hitting', 'field'], ['color fade'], ['color deposits'], ['color fades'], ['rye mountain'], ['road', 'fork', 'become'], ['goosebumps'], ['streaks'], ['red yellow'], ['drown', 'boat'], ['iron cuts iron'], ['take', 'iron'], ['chew iron grams'], ['shri ganesh'], ['white lies'], ['raising', 'head'], ['head', 'eating'], ['head itching'], ['star shine'], ['head rider'], ['take one', 'head'], ['straight finger', 'ghee', 'come'], ['speak straight', 'face'], ['one thing', 'hundred'], ['snake shrew speed'], ['lay', 'arms'], ['build castles', 'air'], ['build air castles'], ['air things'], ['hand stool'], ['yes yes got'], ['hand parrots fly away'], ['hands folded', 'sit'], ['every way', 'work', 'try', 'finish'], ['foot flowers', 'hand'], ['yellow hands'], ['hand', 'feel'], ['keep rubbing', 'hands'], ['wave', 'hit'], ['hookah service'], ['subservient'], ['senses'], ['senses', 'lose']]\n"
          ]
        },
        {
          "name": "stderr",
          "output_type": "stream",
          "text": [
            "[nltk_data] Downloading package punkt to /root/nltk_data...\n",
            "[nltk_data]   Package punkt is already up-to-date!\n",
            "[nltk_data] Downloading package stopwords to /root/nltk_data...\n",
            "[nltk_data]   Package stopwords is already up-to-date!\n"
          ]
        }
      ],
      "source": [
        "import nltk\n",
        "from nltk.corpus import stopwords\n",
        "from nltk.tokenize import word_tokenize\n",
        "from rake_nltk import Rake\n",
        "\n",
        "# Ensure you have the necessary NLTK data\n",
        "nltk.download('punkt')\n",
        "nltk.download('stopwords')\n",
        "\n",
        "# Initialize Rake by providing a list of stopwords\n",
        "rake_nltk_var = Rake(stopwords=stopwords.words('english'))\n",
        "\n",
        "def extract_keywords(text):\n",
        "    rake_nltk_var.extract_keywords_from_text(text)\n",
        "    keyword_extracted = rake_nltk_var.get_ranked_phrases()\n",
        "    return keyword_extracted\n",
        "\n",
        "sentences = idioms_english4\n",
        "\n",
        "keywords_list = [extract_keywords(sentence) for sentence in sentences]\n",
        "print(keywords_list)\n",
        "def extract_keywords3(text):\n",
        "    rake_nltk_var.extract_keywords_from_text(text)\n",
        "    keyword_phrases = rake_nltk_var.get_ranked_phrases()\n",
        "    # Split each keyword phrase into individual words\n",
        "    individual_keywords = [word for phrase in keyword_phrases for word in phrase.split()]\n",
        "    return individual_keywords\n",
        "\n",
        "# Rest of the code remains the same\n"
      ]
    },
    {
      "cell_type": "code",
      "execution_count": 44,
      "metadata": {
        "colab": {
          "base_uri": "https://localhost:8080/"
        },
        "id": "lCIOU92t4H9U",
        "outputId": "f8d80072-f5b4-4d75-94b7-e4a5655acc24"
      },
      "outputs": [
        {
          "name": "stdout",
          "output_type": "stream",
          "text": [
            "[['embers'], ['step', 'coals'], ['head', 'embers'], ['suck', 'thumb'], ['show', 'thumb'], ['gem'], ['part', 'body'], [], ['Blind', 'Government'], ['Sticks'], [], ['cry'], ['count', 'stars'], ['blind', 'quail'], ['king', 'blind'], ['mind', 'blind'], ['smart', 'horse'], ['graze', 'brain'], ['wisdom', 'stone'], ['stick', 'head'], [], ['stuck', 'trader'], ['People', 'half'], ['end', 'result'], ['spoil'], ['food', 'water'], ['boob', 'straighten'], [], ['raaga', 'alaap'], ['sweeten'], ['mouth', 'shut'], ['understanding', 'home'], ['stand', 'feet'], ['axe', 'feet'], ['sky', 'underworld'], ['steal', 'eye'], ['eyes'], ['eyes'], ['contact'], ['open', 'eyes'], ['Eyes', 'downcast'], ['someone'], ['eyes'], ['star'], ['eyes'], ['dust', 'eyes'], ['Eyes'], ['eyes'], ['eyes'], [], ['Furious'], ['fuel', 'fire'], ['tears'], ['task'], ['half', 'pheasant'], ['mind'], ['sky'], ['things'], ['mind', 'skies'], ['spit', 'sky'], [], ['mix', 'respect'], ['felt'], ['brick'], ['honor'], ['eid', 'moon'], ['finger', 'lift'], ['finger', 'hand'], ['finger', 'dance'], ['bird', 'identification'], ['count', 'feathers'], ['Big', 'name'], ['camel', 'mouth'], ['river', 'opposite'], ['reverse', 'mala'], ['straighten'], ['eye', 'look'], ['sick'], ['heads'], ['hand', 'clap'], ['toe'], [], ['mortar', 'pestle'], ['poverty', 'flour'], ['shoulder', 'stand'], ['open', 'raw'], ['break'], ['kalam'], ['liver', 'sieve'], ['heart'], ['heart', 'pounding'], ['liver'], ['heart'], ['heart', 'stone'], ['peg', 'tie'], ['roll', 'thorns'], [], ['paper', 'horses'], [], ['Ears'], ['raw'], ['ears'], ['eat', 'ears'], ['ear', 'lice'], ['ears', 'full'], ['turn'], ['illiterate'], [], ['cannabis'], ['wells', 'bamboo'], ['dog', 'death'], ['paddock'], ['coal', 'brokerage'], [], ['put', 'marinade'], ['heard', 'lot'], ['honest', 'wages'], ['idea'], ['ashes'], ['blood', 'thirsty'], ['dry', 'blood'], ['blood', 'white'], ['blood'], [], ['farm', 'stay'], ['dig', 'dead'], ['full', 'sea'], ['cheeks', 'rang'], ['dung'], [], ['pots', 'water'], ['home', 'lamp'], ['watch', 'spectacle'], ['water'], ['salt', 'wound'], ['green', 'wound'], ['ghee', 'diyas'], ['sell', 'horses'], ['Champat'], [], [], ['silver', 'cut'], ['pitcher'], ['smooth', 'talk'], ['drown', 'handful'], [], ['thief', 'beard'], ['blouse', 'sleeves'], ['hit', 'sixes'], ['sixth', 'milk'], ['sixth', 'milk'], ['dal'], ['chest'], [], ['snake', 'rolls'], ['feet', 'ground'], ['poison'], ['burnt'], ['ship', 'birds'], ['fought'], ['swallow', 'fly'], [], ['poke'], ['tussle'], ['answer'], [], ['leg', 'stuck'], ['reversal'], ['kheer'], ['Hat', 'boom'], ['please'], ['stay'], [], ['stumble'], ['straws', 'support'], ['half', 'brick'], ['beat', 'drum'], [], ['pole', 'drum'], ['break'], ['soles'], ['palming'], ['thirteen'], [], ['parrot'], ['plate', 'eggplant'], ['spit', 'lick'], [], ['teeth'], ['gritting', 'teeth'], ['press', 'finger'], ['craving', 'grains'], [], ['black'], [], ['fill', 'heart'], ['milk', 'water'], ['Milk', 'rivers'], ['milk', 'fly'], ['tail', 'legs'], ['god'], ['boats', 'foot'], ['speak'], ['day'], ['hair'], ['hand'], ['look'], ['fall', 'sight'], ['river', 'boat'], ['put', 'pepper'], ['treachery'], [], [], ['save', 'cut'], [], ['nose'], ['nose'], [], ['hold', 'nose'], ['gum'], [], ['Turban', 'boom'], [], ['stone', 'streak'], ['put', 'curtain'], ['sweaty'], ['mountain'], ['fingers'], ['get', 'water'], ['something'], ['pour', 'water'], ['work'], ['show'], [], ['quarter', 'twelve'], ['thirsty', 'man'], ['life', 'hand'], ['sparkler'], ['look', 'wide'], ['sama'], [], ['peek', 'armpits'], ['happy'], ['hair', 'removal'], ['hair', 'swan'], ['sand', 'wall'], ['Strike'], ['lead'], [], ['pointless', 'talk'], ['part', 'flutters'], ['split'], ['wet', 'cat'], [], ['flies'], ['modak'], ['mind'], ['sit', 'heavy'], [], ['soil'], ['Soil'], ['face'], ['mouth'], ['mouth', 'watering'], ['Fist'], ['lower', 'eyes'], ['moustache'], ['field'], ['color', 'fade'], ['Color', 'Deposits'], ['color', 'fades'], [], ['become', 'fork'], ['goosebumps'], ['Streaks'], ['red', 'Yellow'], ['drown', 'boat'], ['iron', 'cuts'], ['iron'], ['chew', 'iron'], [], ['lies'], ['head'], ['Head'], ['Head'], ['shine'], [], ['head'], ['ghee', 'finger'], ['speak', 'face'], ['thing'], ['snake', 'speed'], ['lay', 'arms'], ['build', 'castles'], ['air', 'castles'], ['air', 'things'], ['stool'], ['yes'], ['hand', 'parrots'], ['sit', 'hands'], ['way', 'finish'], ['hand', 'foot'], ['yellow', 'hands'], ['hand'], ['rubbing', 'hands'], ['wave', 'hit'], ['hookah', 'service'], ['subservient'], ['senses'], ['lose', 'senses']]\n"
          ]
        },
        {
          "name": "stderr",
          "output_type": "stream",
          "text": [
            "[nltk_data] Downloading package averaged_perceptron_tagger to\n",
            "[nltk_data]     /root/nltk_data...\n",
            "[nltk_data]   Package averaged_perceptron_tagger is already up-to-\n",
            "[nltk_data]       date!\n",
            "[nltk_data] Downloading package stopwords to /root/nltk_data...\n",
            "[nltk_data]   Package stopwords is already up-to-date!\n",
            "[nltk_data] Downloading package punkt to /root/nltk_data...\n",
            "[nltk_data]   Package punkt is already up-to-date!\n"
          ]
        }
      ],
      "source": [
        "import nltk\n",
        "from nltk.corpus import stopwords\n",
        "from nltk.tokenize import word_tokenize, sent_tokenize\n",
        "from nltk.tag import pos_tag\n",
        "\n",
        "nltk.download('averaged_perceptron_tagger')\n",
        "nltk.download('stopwords')\n",
        "nltk.download('punkt')\n",
        "\n",
        "def extract_keywords(sentences):\n",
        "    stop_words = set(stopwords.words('english'))\n",
        "    keywords_list = []\n",
        "\n",
        "    for sentence in sentences:\n",
        "        words = word_tokenize(sentence)\n",
        "        filtered_words = [word for word in words if word not in stop_words and word.isalnum()]\n",
        "        tagged_words = pos_tag(filtered_words)\n",
        "\n",
        "        # Extract nouns and adjectives\n",
        "        noun_adj_words = [word for word, tag in tagged_words if tag in ('NN', 'NNS', 'JJ', 'JJR', 'JJS')]\n",
        "\n",
        "        # Get frequency distribution and pick top 2 keywords\n",
        "        freq_dist = nltk.FreqDist(noun_adj_words)\n",
        "        keywords = [word for word, freq in freq_dist.most_common(2)]\n",
        "        keywords_list.append(keywords)\n",
        "\n",
        "    return keywords_list\n",
        "\n",
        "# Example usage:\n",
        "sentences = idioms_english4\n",
        "print(extract_keywords(sentences))\n"
      ]
    },
    {
      "cell_type": "code",
      "execution_count": 45,
      "metadata": {
        "colab": {
          "base_uri": "https://localhost:8080/"
        },
        "id": "TlBj5wu_03H4",
        "outputId": "3642f4ec-87ce-42e7-add7-3f8463330a08"
      },
      "outputs": [
        {
          "name": "stdout",
          "output_type": "stream",
          "text": [
            "['embers', 'step, coals', 'head, embers', 'suck, thumb', 'show, thumb', 'gem', 'part, body', '', 'Blind, Government', 'Sticks', '', 'cry', 'count, stars', 'blind, quail', 'king, blind', 'mind, blind', 'smart, horse', 'graze, brain', 'wisdom, stone', 'stick, head', '', 'stuck, trader', 'People, half', 'end, result', 'spoil', 'food, water', 'boob, straighten', '', 'raaga, alaap', 'sweeten', 'mouth, shut', 'understanding, home', 'stand, feet', 'axe, feet', 'sky, underworld', 'steal, eye', 'eyes', 'eyes', 'contact', 'open, eyes', 'Eyes, downcast', 'someone', 'eyes', 'star', 'eyes', 'dust, eyes', 'Eyes', 'eyes', 'eyes', '', 'Furious', 'fuel, fire', 'tears', 'task', 'half, pheasant', 'mind', 'sky', 'things', 'mind, skies', 'spit, sky', '', 'mix, respect', 'felt', 'brick', 'honor', 'eid, moon', 'finger, lift', 'finger, hand', 'finger, dance', 'bird, identification', 'count, feathers', 'Big, name', 'camel, mouth', 'river, opposite', 'reverse, mala', 'straighten', 'eye, look', 'sick', 'heads', 'hand, clap', 'toe', '', 'mortar, pestle', 'poverty, flour', 'shoulder, stand', 'open, raw', 'break', 'kalam', 'liver, sieve', 'heart', 'heart, pounding', 'liver', 'heart', 'heart, stone', 'peg, tie', 'roll, thorns', '', 'paper, horses', '', 'Ears', 'raw', 'ears', 'eat, ears', 'ear, lice', 'ears, full', 'turn', 'illiterate', '', 'cannabis', 'wells, bamboo', 'dog, death', 'paddock', 'coal, brokerage', '', 'put, marinade', 'heard, lot', 'honest, wages', 'idea', 'ashes', 'blood, thirsty', 'dry, blood', 'blood, white', 'blood', '', 'farm, stay', 'dig, dead', 'full, sea', 'cheeks, rang', 'dung', '', 'pots, water', 'home, lamp', 'watch, spectacle', 'water', 'salt, wound', 'green, wound', 'ghee, diyas', 'sell, horses', 'Champat', '', '', 'silver, cut', 'pitcher', 'smooth, talk', 'drown, handful', '', 'thief, beard', 'blouse, sleeves', 'hit, sixes', 'sixth, milk', 'sixth, milk', 'dal', 'chest', '', 'snake, rolls', 'feet, ground', 'poison', 'burnt', 'ship, birds', 'fought', 'swallow, fly', '', 'poke', 'tussle', 'answer', '', 'leg, stuck', 'reversal', 'kheer', 'Hat, boom', 'please', 'stay', '', 'stumble', 'straws, support', 'half, brick', 'beat, drum', '', 'pole, drum', 'break', 'soles', 'palming', 'thirteen', '', 'parrot', 'plate, eggplant', 'spit, lick', '', 'teeth', 'gritting, teeth', 'press, finger', 'craving, grains', '', 'black', '', 'fill, heart', 'milk, water', 'Milk, rivers', 'milk, fly', 'tail, legs', 'god', 'boats, foot', 'speak', 'day', 'hair', 'hand', 'look', 'fall, sight', 'river, boat', 'put, pepper', 'treachery', '', '', 'save, cut', '', 'nose', 'nose', '', 'hold, nose', 'gum', '', 'Turban, boom', '', 'stone, streak', 'put, curtain', 'sweaty', 'mountain', 'fingers', 'get, water', 'something', 'pour, water', 'work', 'show', '', 'quarter, twelve', 'thirsty, man', 'life, hand', 'sparkler', 'look, wide', 'sama', '', 'peek, armpits', 'happy', 'hair, removal', 'hair, swan', 'sand, wall', 'Strike', 'lead', '', 'pointless, talk', 'part, flutters', 'split', 'wet, cat', '', 'flies', 'modak', 'mind', 'sit, heavy', '', 'soil', 'Soil', 'face', 'mouth', 'mouth, watering', 'Fist', 'lower, eyes', 'moustache', 'field', 'color, fade', 'Color, Deposits', 'color, fades', '', 'become, fork', 'goosebumps', 'Streaks', 'red, Yellow', 'drown, boat', 'iron, cuts', 'iron', 'chew, iron', '', 'lies', 'head', 'Head', 'Head', 'shine', '', 'head', 'ghee, finger', 'speak, face', 'thing', 'snake, speed', 'lay, arms', 'build, castles', 'air, castles', 'air, things', 'stool', 'yes', 'hand, parrots', 'sit, hands', 'way, finish', 'hand, foot', 'yellow, hands', 'hand', 'rubbing, hands', 'wave, hit', 'hookah, service', 'subservient', 'senses', 'lose, senses']\n"
          ]
        }
      ],
      "source": [
        "texts222 = extract_keywords(sentences)\n",
        "texts = [', '.join(text) for text in texts222]\n",
        "cleaned_texts = [text.rstrip(',') for text in texts]\n",
        "print(cleaned_texts)\n"
      ]
    },
    {
      "cell_type": "code",
      "execution_count": 46,
      "metadata": {
        "id": "vns1Zno-0wPl"
      },
      "outputs": [],
      "source": [
        "import pandas as pd\n",
        "\n",
        "# Convert to DataFrame and save as CSV\n",
        "df = pd.DataFrame(cleaned_texts)\n",
        "df.to_csv('key_words_english_idioms_csv.csv', index=False)"
      ]
    },
    {
      "cell_type": "code",
      "execution_count": null,
      "metadata": {
        "id": "KGYe_PvscsiD"
      },
      "outputs": [],
      "source": []
    }
  ],
  "metadata": {
    "colab": {
      "provenance": []
    },
    "kernelspec": {
      "display_name": "Python 3",
      "name": "python3"
    },
    "language_info": {
      "name": "python"
    }
  },
  "nbformat": 4,
  "nbformat_minor": 0
}
